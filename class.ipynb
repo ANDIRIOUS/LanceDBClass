{
 "cells": [
  {
   "cell_type": "markdown",
   "metadata": {},
   "source": [
    "# Introducción a LanceDB\n",
    "Exploraremos el uso de LanceDB para manejar grandes conjuntos de datos y realizar operaciones eficientes."
   ]
  },
  {
   "cell_type": "markdown",
   "metadata": {},
   "source": [
    "## Librerias"
   ]
  },
  {
   "cell_type": "code",
   "execution_count": 47,
   "metadata": {},
   "outputs": [],
   "source": [
    "import lancedb\n",
    "import pyarrow as pa\n",
    "import pandas as pd\n",
    "from datasets import load_dataset\n",
    "from transformers import GPT2Tokenizer"
   ]
  },
  {
   "cell_type": "markdown",
   "metadata": {},
   "source": [
    "## Extraer y embeddear los lyrics de las canciones\n",
    "El dataset se encuentra en: https://huggingface.co/datasets/amishshah/song_lyrics?library=true"
   ]
  },
  {
   "cell_type": "code",
   "execution_count": 48,
   "metadata": {},
   "outputs": [],
   "source": [
    "# Cargar el dataset de Hugging Face\n",
    "dataset = load_dataset(\"amishshah/song_lyrics\", split='train', streaming=True)\n",
    "dataset = dataset.take(10000)"
   ]
  },
  {
   "cell_type": "code",
   "execution_count": 49,
   "metadata": {},
   "outputs": [
    {
     "data": {
      "text/html": [
       "<div>\n",
       "<style scoped>\n",
       "    .dataframe tbody tr th:only-of-type {\n",
       "        vertical-align: middle;\n",
       "    }\n",
       "\n",
       "    .dataframe tbody tr th {\n",
       "        vertical-align: top;\n",
       "    }\n",
       "\n",
       "    .dataframe thead th {\n",
       "        text-align: right;\n",
       "    }\n",
       "</style>\n",
       "<table border=\"1\" class=\"dataframe\">\n",
       "  <thead>\n",
       "    <tr style=\"text-align: right;\">\n",
       "      <th></th>\n",
       "      <th>title</th>\n",
       "      <th>lyrics</th>\n",
       "    </tr>\n",
       "  </thead>\n",
       "  <tbody>\n",
       "    <tr>\n",
       "      <th>0</th>\n",
       "      <td>Killa Cam</td>\n",
       "      <td>[Chorus: Opera Steve &amp; Cam'ron]\\nKilla Cam, Ki...</td>\n",
       "    </tr>\n",
       "    <tr>\n",
       "      <th>1</th>\n",
       "      <td>Can I Live</td>\n",
       "      <td>[Produced by Irv Gotti]\\n\\n[Intro]\\nYeah, hah,...</td>\n",
       "    </tr>\n",
       "    <tr>\n",
       "      <th>2</th>\n",
       "      <td>Forgive Me Father</td>\n",
       "      <td>Maybe cause I'm eatin\\nAnd these bastards fien...</td>\n",
       "    </tr>\n",
       "    <tr>\n",
       "      <th>3</th>\n",
       "      <td>Down and Out</td>\n",
       "      <td>[Produced by Kanye West and Brian Miller]\\n\\n[...</td>\n",
       "    </tr>\n",
       "    <tr>\n",
       "      <th>4</th>\n",
       "      <td>Fly In</td>\n",
       "      <td>[Intro]\\nSo they ask me\\n\"Young boy\\nWhat you ...</td>\n",
       "    </tr>\n",
       "  </tbody>\n",
       "</table>\n",
       "</div>"
      ],
      "text/plain": [
       "               title                                             lyrics\n",
       "0          Killa Cam  [Chorus: Opera Steve & Cam'ron]\\nKilla Cam, Ki...\n",
       "1         Can I Live  [Produced by Irv Gotti]\\n\\n[Intro]\\nYeah, hah,...\n",
       "2  Forgive Me Father  Maybe cause I'm eatin\\nAnd these bastards fien...\n",
       "3       Down and Out  [Produced by Kanye West and Brian Miller]\\n\\n[...\n",
       "4             Fly In  [Intro]\\nSo they ask me\\n\"Young boy\\nWhat you ..."
      ]
     },
     "execution_count": 49,
     "metadata": {},
     "output_type": "execute_result"
    }
   ],
   "source": [
    "titles = []\n",
    "lyrics = []\n",
    "\n",
    "# Iterate over the dataset and collect data\n",
    "for item in dataset:\n",
    "    titles.append(item['title'])\n",
    "    lyrics.append(item['lyrics'])\n",
    "\n",
    "# Create a DataFrame\n",
    "df = pd.DataFrame({'title': titles, 'lyrics': lyrics})\n",
    "\n",
    "# Display the DataFrame\n",
    "df.head()"
   ]
  },
  {
   "cell_type": "markdown",
   "metadata": {},
   "source": [
    "El modelo con su tokenizer se encuentra en: https://huggingface.co/openai-community/gpt2. Es importante notar que manejamos los vectores para que todos sean del mismo tamaño (2000 elementos). Si a alguno le falta, lo rellenamos con 0. "
   ]
  },
  {
   "cell_type": "code",
   "execution_count": 50,
   "metadata": {},
   "outputs": [
    {
     "name": "stderr",
     "output_type": "stream",
     "text": [
      "/Users/elcachorrohumano/anaconda3/envs/lance_env/lib/python3.12/site-packages/huggingface_hub/file_download.py:1132: FutureWarning: `resume_download` is deprecated and will be removed in version 1.0.0. Downloads always resume when possible. If you want to force a new download, use `force_download=True`.\n",
      "  warnings.warn(\n",
      "Token indices sequence length is longer than the specified maximum sequence length for this model (1417 > 1024). Running this sequence through the model will result in indexing errors\n"
     ]
    },
    {
     "data": {
      "text/html": [
       "<div>\n",
       "<style scoped>\n",
       "    .dataframe tbody tr th:only-of-type {\n",
       "        vertical-align: middle;\n",
       "    }\n",
       "\n",
       "    .dataframe tbody tr th {\n",
       "        vertical-align: top;\n",
       "    }\n",
       "\n",
       "    .dataframe thead th {\n",
       "        text-align: right;\n",
       "    }\n",
       "</style>\n",
       "<table border=\"1\" class=\"dataframe\">\n",
       "  <thead>\n",
       "    <tr style=\"text-align: right;\">\n",
       "      <th></th>\n",
       "      <th>vector</th>\n",
       "      <th>name</th>\n",
       "    </tr>\n",
       "  </thead>\n",
       "  <tbody>\n",
       "    <tr>\n",
       "      <th>0</th>\n",
       "      <td>[58, 1925, 15125, 25, 26049, 6542, 1222, 7298,...</td>\n",
       "      <td>Killa Cam</td>\n",
       "    </tr>\n",
       "    <tr>\n",
       "      <th>1</th>\n",
       "      <td>[58, 11547, 771, 416, 5686, 85, 402, 26380, 60...</td>\n",
       "      <td>Can I Live</td>\n",
       "    </tr>\n",
       "    <tr>\n",
       "      <th>2</th>\n",
       "      <td>[13300, 2728, 314, 1101, 4483, 259, 198, 1870,...</td>\n",
       "      <td>Forgive Me Father</td>\n",
       "    </tr>\n",
       "    <tr>\n",
       "      <th>3</th>\n",
       "      <td>[58, 11547, 771, 416, 27775, 2688, 290, 8403, ...</td>\n",
       "      <td>Down and Out</td>\n",
       "    </tr>\n",
       "    <tr>\n",
       "      <th>4</th>\n",
       "      <td>[58, 5317, 305, 60, 198, 2396, 484, 1265, 502,...</td>\n",
       "      <td>Fly In</td>\n",
       "    </tr>\n",
       "  </tbody>\n",
       "</table>\n",
       "</div>"
      ],
      "text/plain": [
       "                                              vector               name\n",
       "0  [58, 1925, 15125, 25, 26049, 6542, 1222, 7298,...          Killa Cam\n",
       "1  [58, 11547, 771, 416, 5686, 85, 402, 26380, 60...         Can I Live\n",
       "2  [13300, 2728, 314, 1101, 4483, 259, 198, 1870,...  Forgive Me Father\n",
       "3  [58, 11547, 771, 416, 27775, 2688, 290, 8403, ...       Down and Out\n",
       "4  [58, 5317, 305, 60, 198, 2396, 484, 1265, 502,...             Fly In"
      ]
     },
     "execution_count": 50,
     "metadata": {},
     "output_type": "execute_result"
    }
   ],
   "source": [
    "# Cargar el tokenizer del modelo openai-community/gpt2 de Huggingface\n",
    "tokenizer = GPT2Tokenizer.from_pretrained('gpt2')\n",
    "\n",
    "# Embeddear las letras de las canciones\n",
    "tokenized_lyrics = df['lyrics'].apply(lambda x: tokenizer(x)[\"input_ids\"])\n",
    "\n",
    "tokenized_lyrics = tokenized_lyrics.apply(lambda x: x[:2000] + [0] * (2000 - len(x)) if len(x) < 2000 else x[:2000])\n",
    "\n",
    "# Create a new DataFrame with 'track_name' and the tokenized lyrics\n",
    "df_tokenized = pd.DataFrame({'vector': tokenized_lyrics, 'name': df['title']})\n",
    "\n",
    "df_tokenized.head()"
   ]
  },
  {
   "cell_type": "markdown",
   "metadata": {},
   "source": [
    "Un ejemplo de un embedding de una canción y cómo podemos transformarlo al string nuevamente.  "
   ]
  },
  {
   "cell_type": "code",
   "execution_count": 51,
   "metadata": {},
   "outputs": [
    {
     "name": "stdout",
     "output_type": "stream",
     "text": [
      "Embedding de la canción 'Fake Plastic Trees': [58, 13414, 325, 352, 60, 198, 32, 4077, 7309, 41737, 460, 198, 1890, 257, 8390, 3999, 14239, 4618, 198, 818, 257, 8390, 7309, 4534, 198, 2504, 673, 5839, 422, 257, 14239, 582, 198, 818, 257, 3240, 1336, 286, 14239, 6134, 198, 2514, 651, 5755, 286, 2346, 198, 198, 58, 1925, 15125, 352, 60, 198, 1026, 17326, 607, 503, 198, 1026, 17326, 607, 503, 198, 1026, 17326, 607, 503, 198, 1026, 17326, 607, 503, 198, 198, 58, 13414, 325, 362, 60, 198, 3347, 3160, 351, 257, 5445, 582, 198, 32, 21368, 7514, 34365, 25924, 582, 198, 8241, 655, 1067, 25329, 290, 20246, 198, 1544, 973, 284, 466, 8185, 198, 1890, 4813, 287, 262, 3624, 444, 198, 1537, 13522, 1464, 7864, 198, 58, 1925, 15125, 362, 60, 198, 1870, 340, 17326, 683, 503, 198, 1026, 17326, 683, 503, 198, 1026, 17326, 683, 503, 198, 1026, 17326, 198, 198, 58, 13414, 325, 513, 60, 198, 3347, 3073, 588, 262, 1103, 1517, 198, 3347, 18221, 588, 262, 1103, 1517, 198, 3666, 8390, 7309, 1842, 198, 1537, 314, 460, 470, 1037, 262, 4203, 198, 40, 714, 6611, 832, 262, 13387, 198, 1532, 314, 655, 1210, 290, 1057, 198, 198, 58, 1925, 15125, 513, 60, 198, 1870, 340, 17326, 502, 503, 198, 1026, 17326, 502, 503, 198, 1026, 17326, 502, 503, 198, 1026, 17326, 502, 503, 198, 198, 58, 7975, 305, 60, 198, 1870, 611, 314, 714, 307, 508, 345, 2227, 198, 1532, 314, 714, 307, 508, 345, 2227, 198, 3237, 262, 640, 198, 3237, 262, 640, 0, 0, 0, 0, 0, 0, 0, 0, 0, 0, 0, 0, 0, 0, 0, 0, 0, 0, 0, 0, 0, 0, 0, 0, 0, 0, 0, 0, 0, 0, 0, 0, 0, 0, 0, 0, 0, 0, 0, 0, 0, 0, 0, 0, 0, 0, 0, 0, 0, 0, 0, 0, 0, 0, 0, 0, 0, 0, 0, 0, 0, 0, 0, 0, 0, 0, 0, 0, 0, 0, 0, 0, 0, 0, 0, 0, 0, 0, 0, 0, 0, 0, 0, 0, 0, 0, 0, 0, 0, 0, 0, 0, 0, 0, 0, 0, 0, 0, 0, 0, 0, 0, 0, 0, 0, 0, 0, 0, 0, 0, 0, 0, 0, 0, 0, 0, 0, 0, 0, 0, 0, 0, 0, 0, 0, 0, 0, 0, 0, 0, 0, 0, 0, 0, 0, 0, 0, 0, 0, 0, 0, 0, 0, 0, 0, 0, 0, 0, 0, 0, 0, 0, 0, 0, 0, 0, 0, 0, 0, 0, 0, 0, 0, 0, 0, 0, 0, 0, 0, 0, 0, 0, 0, 0, 0, 0, 0, 0, 0, 0, 0, 0, 0, 0, 0, 0, 0, 0, 0, 0, 0, 0, 0, 0, 0, 0, 0, 0, 0, 0, 0, 0, 0, 0, 0, 0, 0, 0, 0, 0, 0, 0, 0, 0, 0, 0, 0, 0, 0, 0, 0, 0, 0, 0, 0, 0, 0, 0, 0, 0, 0, 0, 0, 0, 0, 0, 0, 0, 0, 0, 0, 0, 0, 0, 0, 0, 0, 0, 0, 0, 0, 0, 0, 0, 0, 0, 0, 0, 0, 0, 0, 0, 0, 0, 0, 0, 0, 0, 0, 0, 0, 0, 0, 0, 0, 0, 0, 0, 0, 0, 0, 0, 0, 0, 0, 0, 0, 0, 0, 0, 0, 0, 0, 0, 0, 0, 0, 0, 0, 0, 0, 0, 0, 0, 0, 0, 0, 0, 0, 0, 0, 0, 0, 0, 0, 0, 0, 0, 0, 0, 0, 0, 0, 0, 0, 0, 0, 0, 0, 0, 0, 0, 0, 0, 0, 0, 0, 0, 0, 0, 0, 0, 0, 0, 0, 0, 0, 0, 0, 0, 0, 0, 0, 0, 0, 0, 0, 0, 0, 0, 0, 0, 0, 0, 0, 0, 0, 0, 0, 0, 0, 0, 0, 0, 0, 0, 0, 0, 0, 0, 0, 0, 0, 0, 0, 0, 0, 0, 0, 0, 0, 0, 0, 0, 0, 0, 0, 0, 0, 0, 0, 0, 0, 0, 0, 0, 0, 0, 0, 0, 0, 0, 0, 0, 0, 0, 0, 0, 0, 0, 0, 0, 0, 0, 0, 0, 0, 0, 0, 0, 0, 0, 0, 0, 0, 0, 0, 0, 0, 0, 0, 0, 0, 0, 0, 0, 0, 0, 0, 0, 0, 0, 0, 0, 0, 0, 0, 0, 0, 0, 0, 0, 0, 0, 0, 0, 0, 0, 0, 0, 0, 0, 0, 0, 0, 0, 0, 0, 0, 0, 0, 0, 0, 0, 0, 0, 0, 0, 0, 0, 0, 0, 0, 0, 0, 0, 0, 0, 0, 0, 0, 0, 0, 0, 0, 0, 0, 0, 0, 0, 0, 0, 0, 0, 0, 0, 0, 0, 0, 0, 0, 0, 0, 0, 0, 0, 0, 0, 0, 0, 0, 0, 0, 0, 0, 0, 0, 0, 0, 0, 0, 0, 0, 0, 0, 0, 0, 0, 0, 0, 0, 0, 0, 0, 0, 0, 0, 0, 0, 0, 0, 0, 0, 0, 0, 0, 0, 0, 0, 0, 0, 0, 0, 0, 0, 0, 0, 0, 0, 0, 0, 0, 0, 0, 0, 0, 0, 0, 0, 0, 0, 0, 0, 0, 0, 0, 0, 0, 0, 0, 0, 0, 0, 0, 0, 0, 0, 0, 0, 0, 0, 0, 0, 0, 0, 0, 0, 0, 0, 0, 0, 0, 0, 0, 0, 0, 0, 0, 0, 0, 0, 0, 0, 0, 0, 0, 0, 0, 0, 0, 0, 0, 0, 0, 0, 0, 0, 0, 0, 0, 0, 0, 0, 0, 0, 0, 0, 0, 0, 0, 0, 0, 0, 0, 0, 0, 0, 0, 0, 0, 0, 0, 0, 0, 0, 0, 0, 0, 0, 0, 0, 0, 0, 0, 0, 0, 0, 0, 0, 0, 0, 0, 0, 0, 0, 0, 0, 0, 0, 0, 0, 0, 0, 0, 0, 0, 0, 0, 0, 0, 0, 0, 0, 0, 0, 0, 0, 0, 0, 0, 0, 0, 0, 0, 0, 0, 0, 0, 0, 0, 0, 0, 0, 0, 0, 0, 0, 0, 0, 0, 0, 0, 0, 0, 0, 0, 0, 0, 0, 0, 0, 0, 0, 0, 0, 0, 0, 0, 0, 0, 0, 0, 0, 0, 0, 0, 0, 0, 0, 0, 0, 0, 0, 0, 0, 0, 0, 0, 0, 0, 0, 0, 0, 0, 0, 0, 0, 0, 0, 0, 0, 0, 0, 0, 0, 0, 0, 0, 0, 0, 0, 0, 0, 0, 0, 0, 0, 0, 0, 0, 0, 0, 0, 0, 0, 0, 0, 0, 0, 0, 0, 0, 0, 0, 0, 0, 0, 0, 0, 0, 0, 0, 0, 0, 0, 0, 0, 0, 0, 0, 0, 0, 0, 0, 0, 0, 0, 0, 0, 0, 0, 0, 0, 0, 0, 0, 0, 0, 0, 0, 0, 0, 0, 0, 0, 0, 0, 0, 0, 0, 0, 0, 0, 0, 0, 0, 0, 0, 0, 0, 0, 0, 0, 0, 0, 0, 0, 0, 0, 0, 0, 0, 0, 0, 0, 0, 0, 0, 0, 0, 0, 0, 0, 0, 0, 0, 0, 0, 0, 0, 0, 0, 0, 0, 0, 0, 0, 0, 0, 0, 0, 0, 0, 0, 0, 0, 0, 0, 0, 0, 0, 0, 0, 0, 0, 0, 0, 0, 0, 0, 0, 0, 0, 0, 0, 0, 0, 0, 0, 0, 0, 0, 0, 0, 0, 0, 0, 0, 0, 0, 0, 0, 0, 0, 0, 0, 0, 0, 0, 0, 0, 0, 0, 0, 0, 0, 0, 0, 0, 0, 0, 0, 0, 0, 0, 0, 0, 0, 0, 0, 0, 0, 0, 0, 0, 0, 0, 0, 0, 0, 0, 0, 0, 0, 0, 0, 0, 0, 0, 0, 0, 0, 0, 0, 0, 0, 0, 0, 0, 0, 0, 0, 0, 0, 0, 0, 0, 0, 0, 0, 0, 0, 0, 0, 0, 0, 0, 0, 0, 0, 0, 0, 0, 0, 0, 0, 0, 0, 0, 0, 0, 0, 0, 0, 0, 0, 0, 0, 0, 0, 0, 0, 0, 0, 0, 0, 0, 0, 0, 0, 0, 0, 0, 0, 0, 0, 0, 0, 0, 0, 0, 0, 0, 0, 0, 0, 0, 0, 0, 0, 0, 0, 0, 0, 0, 0, 0, 0, 0, 0, 0, 0, 0, 0, 0, 0, 0, 0, 0, 0, 0, 0, 0, 0, 0, 0, 0, 0, 0, 0, 0, 0, 0, 0, 0, 0, 0, 0, 0, 0, 0, 0, 0, 0, 0, 0, 0, 0, 0, 0, 0, 0, 0, 0, 0, 0, 0, 0, 0, 0, 0, 0, 0, 0, 0, 0, 0, 0, 0, 0, 0, 0, 0, 0, 0, 0, 0, 0, 0, 0, 0, 0, 0, 0, 0, 0, 0, 0, 0, 0, 0, 0, 0, 0, 0, 0, 0, 0, 0, 0, 0, 0, 0, 0, 0, 0, 0, 0, 0, 0, 0, 0, 0, 0, 0, 0, 0, 0, 0, 0, 0, 0, 0, 0, 0, 0, 0, 0, 0, 0, 0, 0, 0, 0, 0, 0, 0, 0, 0, 0, 0, 0, 0, 0, 0, 0, 0, 0, 0, 0, 0, 0, 0, 0, 0, 0, 0, 0, 0, 0, 0, 0, 0, 0, 0, 0, 0, 0, 0, 0, 0, 0, 0, 0, 0, 0, 0, 0, 0, 0, 0, 0, 0, 0, 0, 0, 0, 0, 0, 0, 0, 0, 0, 0, 0, 0, 0, 0, 0, 0, 0, 0, 0, 0, 0, 0, 0, 0, 0, 0, 0, 0, 0, 0, 0, 0, 0, 0, 0, 0, 0, 0, 0, 0, 0, 0, 0, 0, 0, 0, 0, 0, 0, 0, 0, 0, 0, 0, 0, 0, 0, 0, 0, 0, 0, 0, 0, 0, 0, 0, 0, 0, 0, 0, 0, 0, 0, 0, 0, 0, 0, 0, 0, 0, 0, 0, 0, 0, 0, 0, 0, 0, 0, 0, 0, 0, 0, 0, 0, 0, 0, 0, 0, 0, 0, 0, 0, 0, 0, 0, 0, 0, 0, 0, 0, 0, 0, 0, 0, 0, 0, 0, 0, 0, 0, 0, 0, 0, 0, 0, 0, 0, 0, 0, 0, 0, 0, 0, 0, 0, 0, 0, 0, 0, 0, 0, 0, 0, 0, 0, 0, 0, 0, 0, 0, 0, 0, 0, 0, 0, 0, 0, 0, 0, 0, 0, 0, 0, 0, 0, 0, 0, 0, 0, 0, 0, 0, 0, 0, 0, 0, 0, 0, 0, 0, 0, 0, 0, 0, 0, 0, 0, 0, 0, 0, 0, 0, 0, 0, 0, 0, 0, 0, 0, 0, 0, 0, 0, 0, 0, 0, 0, 0, 0, 0, 0, 0, 0, 0, 0, 0, 0, 0, 0, 0, 0, 0, 0, 0, 0, 0, 0, 0, 0, 0, 0, 0, 0, 0, 0, 0, 0, 0, 0, 0, 0, 0, 0, 0, 0, 0, 0, 0, 0, 0, 0, 0, 0, 0, 0, 0, 0, 0, 0, 0, 0, 0, 0, 0, 0, 0, 0, 0, 0, 0, 0, 0, 0, 0, 0, 0, 0, 0, 0, 0, 0, 0, 0, 0, 0, 0, 0, 0, 0, 0, 0, 0, 0, 0, 0, 0, 0, 0, 0, 0, 0, 0, 0, 0, 0, 0, 0, 0, 0, 0, 0, 0, 0, 0, 0, 0, 0, 0, 0, 0, 0, 0, 0, 0, 0, 0, 0, 0, 0, 0, 0, 0, 0, 0, 0, 0, 0, 0, 0, 0, 0, 0, 0, 0, 0, 0, 0, 0, 0, 0, 0, 0, 0, 0, 0, 0, 0, 0, 0, 0, 0, 0, 0, 0, 0, 0, 0, 0, 0, 0, 0, 0, 0, 0, 0, 0, 0, 0, 0, 0, 0, 0, 0, 0, 0, 0, 0, 0, 0, 0, 0, 0, 0, 0, 0, 0, 0, 0, 0, 0, 0, 0, 0, 0, 0, 0, 0, 0, 0, 0, 0, 0, 0, 0, 0, 0, 0, 0, 0, 0, 0, 0, 0, 0, 0, 0, 0, 0, 0, 0, 0, 0, 0, 0, 0, 0, 0, 0, 0, 0, 0, 0, 0, 0, 0, 0, 0, 0, 0, 0, 0, 0, 0, 0, 0, 0, 0, 0, 0, 0, 0, 0, 0, 0, 0, 0, 0, 0, 0, 0, 0, 0, 0, 0] \n",
      "\n",
      "String generado a partir del embedding: [Verse 1]\n",
      "A green plastic watering can\n",
      "For a fake Chinese rubber plant\n",
      "In a fake plastic earth\n",
      "That she bought from a rubber man\n",
      "In a town full of rubber plants\n",
      "To get rid of itself\n",
      "\n",
      "[Chorus 1]\n",
      "It wears her out\n",
      "It wears her out\n",
      "It wears her out\n",
      "It wears her out\n",
      "\n",
      "[Verse 2]\n",
      "She lives with a broken man\n",
      "A cracked polystyrene man\n",
      "Who just crumbles and burns\n",
      "He used to do surgery\n",
      "For girls in the eighties\n",
      "But gravity always wins\n",
      "[Chorus 2]\n",
      "And it wears him out\n",
      "It wears him out\n",
      "It wears him out\n",
      "It wears\n",
      "\n",
      "[Verse 3]\n",
      "She looks like the real thing\n",
      "She tastes like the real thing\n",
      "My fake plastic love\n",
      "But I can't help the feeling\n",
      "I could blow through the ceiling\n",
      "If I just turn and run\n",
      "\n",
      "[Chorus 3]\n",
      "And it wears me out\n",
      "It wears me out\n",
      "It wears me out\n",
      "It wears me out\n",
      "\n",
      "[Outro]\n",
      "And if I could be who you wanted\n",
      "If I could be who you wanted\n",
      "All the time\n",
      "All the time!!!!!!!!!!!!!!!!!!!!!!!!!!!!!!!!!!!!!!!!!!!!!!!!!!!!!!!!!!!!!!!!!!!!!!!!!!!!!!!!!!!!!!!!!!!!!!!!!!!!!!!!!!!!!!!!!!!!!!!!!!!!!!!!!!!!!!!!!!!!!!!!!!!!!!!!!!!!!!!!!!!!!!!!!!!!!!!!!!!!!!!!!!!!!!!!!!!!!!!!!!!!!!!!!!!!!!!!!!!!!!!!!!!!!!!!!!!!!!!!!!!!!!!!!!!!!!!!!!!!!!!!!!!!!!!!!!!!!!!!!!!!!!!!!!!!!!!!!!!!!!!!!!!!!!!!!!!!!!!!!!!!!!!!!!!!!!!!!!!!!!!!!!!!!!!!!!!!!!!!!!!!!!!!!!!!!!!!!!!!!!!!!!!!!!!!!!!!!!!!!!!!!!!!!!!!!!!!!!!!!!!!!!!!!!!!!!!!!!!!!!!!!!!!!!!!!!!!!!!!!!!!!!!!!!!!!!!!!!!!!!!!!!!!!!!!!!!!!!!!!!!!!!!!!!!!!!!!!!!!!!!!!!!!!!!!!!!!!!!!!!!!!!!!!!!!!!!!!!!!!!!!!!!!!!!!!!!!!!!!!!!!!!!!!!!!!!!!!!!!!!!!!!!!!!!!!!!!!!!!!!!!!!!!!!!!!!!!!!!!!!!!!!!!!!!!!!!!!!!!!!!!!!!!!!!!!!!!!!!!!!!!!!!!!!!!!!!!!!!!!!!!!!!!!!!!!!!!!!!!!!!!!!!!!!!!!!!!!!!!!!!!!!!!!!!!!!!!!!!!!!!!!!!!!!!!!!!!!!!!!!!!!!!!!!!!!!!!!!!!!!!!!!!!!!!!!!!!!!!!!!!!!!!!!!!!!!!!!!!!!!!!!!!!!!!!!!!!!!!!!!!!!!!!!!!!!!!!!!!!!!!!!!!!!!!!!!!!!!!!!!!!!!!!!!!!!!!!!!!!!!!!!!!!!!!!!!!!!!!!!!!!!!!!!!!!!!!!!!!!!!!!!!!!!!!!!!!!!!!!!!!!!!!!!!!!!!!!!!!!!!!!!!!!!!!!!!!!!!!!!!!!!!!!!!!!!!!!!!!!!!!!!!!!!!!!!!!!!!!!!!!!!!!!!!!!!!!!!!!!!!!!!!!!!!!!!!!!!!!!!!!!!!!!!!!!!!!!!!!!!!!!!!!!!!!!!!!!!!!!!!!!!!!!!!!!!!!!!!!!!!!!!!!!!!!!!!!!!!!!!!!!!!!!!!!!!!!!!!!!!!!!!!!!!!!!!!!!!!!!!!!!!!!!!!!!!!!!!!!!!!!!!!!!!!!!!!!!!!!!!!!!!!!!!!!!!!!!!!!!!!!!!!!!!!!!!!!!!!!!!!!!!!!!!!!!!!!!!!!!!!!!!!!!!!!!!!!!!!!!!!!!!!!!!!!!!!!!!!!!!!!!!!!!!!!!!!!!!!!!!!!!!!!!!!!!!!!!!!!!!!!!!!!!!!!!!!!!!!!!!!!!!!!!!!!!!!!!!!!!!!!!!!!!!!!!!!!!!!!!!!!!!!!!!!!!!!!!!!!!!!!!!!!!!!!!!!!!!!!!!!!!!!!!!!!!!!!!!!!!!!!!!!!!!!!!!!!!!!!!!!!!!!!!!!!!!!!!!!!!!!!!!!!!!!!!!!!!!!!!!!!!!!!!!!!!!!!!!!!!!!!!!!!!!!!!!!!!!!!!!!!!!!!!!!!!!!!!!!!!!!!!!!!!!!!!!!!!!!!!!!!!!!!!!!!!!!!!!!!!!!!!!!!!!!!!!!!!!!!!!!!!!!!!!!!!!!!!!!!!!!!!!!!!!!!!!!!!!!!!!!!!!!!!!\n"
     ]
    }
   ],
   "source": [
    "# Obtener el embedding de la canción \"Fake Plastic Trees\"\n",
    "embedding_fpt = df_tokenized[df_tokenized['name'] == 'Fake Plastic Trees']['vector'].values[0]\n",
    "print(\"Embedding de la canción 'Fake Plastic Trees':\", embedding_fpt, \"\\n\")\n",
    "\n",
    "# Generar el string a partir del embedding\n",
    "original_string = tokenizer.decode(embedding_fpt, skip_special_tokens=True)\n",
    "print(\"String generado a partir del embedding:\", original_string)"
   ]
  },
  {
   "cell_type": "markdown",
   "metadata": {},
   "source": [
    "## Meterlo a LanceDB"
   ]
  },
  {
   "cell_type": "code",
   "execution_count": 52,
   "metadata": {},
   "outputs": [
    {
     "data": {
      "text/plain": [
       "pyarrow.Table\n",
       "vector: fixed_size_list<item: float>[2000]\n",
       "  child 0, item: float\n",
       "name: string\n",
       "----\n",
       "vector: [[[58,1925,15125,25,26049,...,0,0,0,0,0],[58,11547,771,416,5686,...,0,0,0,0,0],[13300,2728,314,1101,4483,...,0,0,0,0,0],[58,11547,771,416,27775,...,0,0,0,0,0],[58,5317,305,60,198,...,0,0,0,0,0]]]\n",
       "name: [[\"Killa Cam\",\"Can I Live\",\"Forgive Me Father\",\"Down and Out\",\"Fly In\"]]"
      ]
     },
     "execution_count": 52,
     "metadata": {},
     "output_type": "execute_result"
    }
   ],
   "source": [
    "# Nos conectamos a una base de datos local\n",
    "db = lancedb.connect(\"./.lancedb\")\n",
    "# Creamos una tabla en la base de datos\n",
    "db.create_table(\"tabla\", df_tokenized)\n",
    "db[\"tabla\"].head()"
   ]
  },
  {
   "cell_type": "markdown",
   "metadata": {},
   "source": [
    "### Queries\n",
    "https://lancedb.github.io/lancedb/python/python/#lancedb.query.LanceVectorQueryBuilder"
   ]
  },
  {
   "cell_type": "code",
   "execution_count": 53,
   "metadata": {},
   "outputs": [],
   "source": [
    "nueva_cancion = \"\"\"\n",
    "[Verse 1]\n",
    "A green plastic watering can\n",
    "For a fake Chinese rubber plant\n",
    "In a fake plastic earth\n",
    "That she bought from a rubber man\n",
    "In a town full of rubber plants\n",
    "To get rid of itself\n",
    "\n",
    "[Chorus]\n",
    "It wears her out\n",
    "It wears her out\n",
    "It wears her out\n",
    "It wears her out\n",
    "\n",
    "[Verse 2]\n",
    "She lives with a broken man\n",
    "A cracked polystyrene man\n",
    "Who just crumbles and burns\n",
    "He used to do surgery\n",
    "For girls in the eighties\n",
    "But gravity always wins\n",
    "\n",
    "[Chorus]\n",
    "And it wears him out\n",
    "It wears him out\n",
    "It wears him out\n",
    "It wears\n",
    "\n",
    "[Verse 3]\n",
    "She looks like the real thing\n",
    "She tastes like the real thing\n",
    "My fake plastic love\n",
    "But I can't help the feeling\n",
    "I could blow through the ceiling\n",
    "If I just turn and run\n",
    "\n",
    "[Chorus]\n",
    "And it wears me out\n",
    "It wears me out\n",
    "It wears me out\n",
    "It wears me out\n",
    "\n",
    "[Outro]\n",
    "And if I could be who you wanted\n",
    "If I could be who you wanted\n",
    "All the time\n",
    "All the time\n",
    "\"\"\"\n",
    "\n",
    "nueva_cancion_embedded = tokenizer(nueva_cancion)[\"input_ids\"]"
   ]
  },
  {
   "cell_type": "code",
   "execution_count": 54,
   "metadata": {},
   "outputs": [],
   "source": [
    "n = 2000\n",
    "def ajustar_vector(input, n):\n",
    "    output = input[:n]\n",
    "    \n",
    "    # Si la lista es más corta que el tamaño objetivo, rellenar con 0.0\n",
    "    while len(output) < n:\n",
    "        output.append(0)\n",
    "    \n",
    "    return output\n",
    "nueva_cancion_embedded = ajustar_vector(nueva_cancion_embedded, n)"
   ]
  },
  {
   "cell_type": "code",
   "execution_count": 55,
   "metadata": {},
   "outputs": [
    {
     "data": {
      "text/html": [
       "<div>\n",
       "<style scoped>\n",
       "    .dataframe tbody tr th:only-of-type {\n",
       "        vertical-align: middle;\n",
       "    }\n",
       "\n",
       "    .dataframe tbody tr th {\n",
       "        vertical-align: top;\n",
       "    }\n",
       "\n",
       "    .dataframe thead th {\n",
       "        text-align: right;\n",
       "    }\n",
       "</style>\n",
       "<table border=\"1\" class=\"dataframe\">\n",
       "  <thead>\n",
       "    <tr style=\"text-align: right;\">\n",
       "      <th></th>\n",
       "      <th>name</th>\n",
       "      <th>vector</th>\n",
       "      <th>_distance</th>\n",
       "    </tr>\n",
       "  </thead>\n",
       "  <tbody>\n",
       "    <tr>\n",
       "      <th>0</th>\n",
       "      <td>Fake Plastic Trees</td>\n",
       "      <td>[58.0, 13414.0, 325.0, 352.0, 60.0, 198.0, 32....</td>\n",
       "      <td>7.698257e+09</td>\n",
       "    </tr>\n",
       "    <tr>\n",
       "      <th>1</th>\n",
       "      <td>Be Free</td>\n",
       "      <td>[40.0, 1337.0, 546.0, 1842.0, 198.0, 1870.0, 7...</td>\n",
       "      <td>1.162364e+10</td>\n",
       "    </tr>\n",
       "    <tr>\n",
       "      <th>2</th>\n",
       "      <td>Angry World</td>\n",
       "      <td>[4366.0, 766.0, 1204.0, 355.0, 257.0, 5445.0, ...</td>\n",
       "      <td>1.184692e+10</td>\n",
       "    </tr>\n",
       "    <tr>\n",
       "      <th>3</th>\n",
       "      <td>Winners</td>\n",
       "      <td>[40.0, 11.0, 314.0, 1276.0, 307.0, 11.0, 314.0...</td>\n",
       "      <td>1.191315e+10</td>\n",
       "    </tr>\n",
       "    <tr>\n",
       "      <th>4</th>\n",
       "      <td>Agitation</td>\n",
       "      <td>[58.0, 5317.0, 305.0, 60.0, 198.0, 5812.0, 12....</td>\n",
       "      <td>1.210757e+10</td>\n",
       "    </tr>\n",
       "    <tr>\n",
       "      <th>5</th>\n",
       "      <td>Song for Junior</td>\n",
       "      <td>[10449.0, 345.0, 845.0, 881.0, 198.0, 198.0, 4...</td>\n",
       "      <td>1.215291e+10</td>\n",
       "    </tr>\n",
       "    <tr>\n",
       "      <th>6</th>\n",
       "      <td>Serenity Prayer</td>\n",
       "      <td>[13482.0, 11.0, 7264.0, 502.0, 262.0, 384.0, 9...</td>\n",
       "      <td>1.232187e+10</td>\n",
       "    </tr>\n",
       "    <tr>\n",
       "      <th>7</th>\n",
       "      <td>Song for the Man</td>\n",
       "      <td>[40.0, 836.0, 470.0, 588.0, 534.0, 9408.0, 11....</td>\n",
       "      <td>1.247471e+10</td>\n",
       "    </tr>\n",
       "    <tr>\n",
       "      <th>8</th>\n",
       "      <td>Me  You Album Version</td>\n",
       "      <td>[8491.0, 345.0, 3492.0, 11.0, 466.0, 345.0, 76...</td>\n",
       "      <td>1.252862e+10</td>\n",
       "    </tr>\n",
       "    <tr>\n",
       "      <th>9</th>\n",
       "      <td>The Biz vs. The Nuge</td>\n",
       "      <td>[3198.0, 11.0, 734.0, 11.0, 1115.0, 986.0, 198...</td>\n",
       "      <td>1.267417e+10</td>\n",
       "    </tr>\n",
       "  </tbody>\n",
       "</table>\n",
       "</div>"
      ],
      "text/plain": [
       "                    name                                             vector  \\\n",
       "0     Fake Plastic Trees  [58.0, 13414.0, 325.0, 352.0, 60.0, 198.0, 32....   \n",
       "1                Be Free  [40.0, 1337.0, 546.0, 1842.0, 198.0, 1870.0, 7...   \n",
       "2            Angry World  [4366.0, 766.0, 1204.0, 355.0, 257.0, 5445.0, ...   \n",
       "3                Winners  [40.0, 11.0, 314.0, 1276.0, 307.0, 11.0, 314.0...   \n",
       "4              Agitation  [58.0, 5317.0, 305.0, 60.0, 198.0, 5812.0, 12....   \n",
       "5        Song for Junior  [10449.0, 345.0, 845.0, 881.0, 198.0, 198.0, 4...   \n",
       "6        Serenity Prayer  [13482.0, 11.0, 7264.0, 502.0, 262.0, 384.0, 9...   \n",
       "7       Song for the Man  [40.0, 836.0, 470.0, 588.0, 534.0, 9408.0, 11....   \n",
       "8  Me  You Album Version  [8491.0, 345.0, 3492.0, 11.0, 466.0, 345.0, 76...   \n",
       "9   The Biz vs. The Nuge  [3198.0, 11.0, 734.0, 11.0, 1115.0, 986.0, 198...   \n",
       "\n",
       "      _distance  \n",
       "0  7.698257e+09  \n",
       "1  1.162364e+10  \n",
       "2  1.184692e+10  \n",
       "3  1.191315e+10  \n",
       "4  1.210757e+10  \n",
       "5  1.215291e+10  \n",
       "6  1.232187e+10  \n",
       "7  1.247471e+10  \n",
       "8  1.252862e+10  \n",
       "9  1.267417e+10  "
      ]
     },
     "execution_count": 55,
     "metadata": {},
     "output_type": "execute_result"
    }
   ],
   "source": [
    "(db[\"tabla\"].search(nueva_cancion_embedded)\n",
    "    .metric(\"L2\")\n",
    "    .where(\"name != 'Fake Plastic Trees'\")\n",
    "    .select([\"name\", \"vector\"])\n",
    "    .limit(10)\n",
    "    .to_pandas())"
   ]
  }
 ],
 "metadata": {
  "kernelspec": {
   "display_name": "lance_env",
   "language": "python",
   "name": "python3"
  },
  "language_info": {
   "codemirror_mode": {
    "name": "ipython",
    "version": 3
   },
   "file_extension": ".py",
   "mimetype": "text/x-python",
   "name": "python",
   "nbconvert_exporter": "python",
   "pygments_lexer": "ipython3",
   "version": "3.12.3"
  }
 },
 "nbformat": 4,
 "nbformat_minor": 2
}
